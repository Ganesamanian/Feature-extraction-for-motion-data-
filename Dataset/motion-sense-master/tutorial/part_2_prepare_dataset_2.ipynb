{
 "cells": [
  {
   "cell_type": "code",
   "execution_count": 1,
   "metadata": {
    "colab": {
     "base_uri": "https://localhost:8080/",
     "height": 64
    },
    "colab_type": "code",
    "executionInfo": {
     "elapsed": 2292,
     "status": "ok",
     "timestamp": 1572255782792,
     "user": {
      "displayName": "a cup of data",
      "photoUrl": "https://lh3.googleusercontent.com/a-/AAuE7mAGeOe0heF2mjC_X0LvBoaxaDfPSdZs6yCe_9tm=s64",
      "userId": "12973428829118435411"
     },
     "user_tz": 0
    },
    "id": "llnhh0F0KLiJ",
    "outputId": "f72214aa-91ef-4b1a-faa0-962381b7efc2"
   },
   "outputs": [],
   "source": [
    "import numpy as np\n",
    "import pandas as pd\n",
    "import matplotlib.pyplot as plt\n",
    "import tensorflow as tf\n",
    "import tensorflow.keras as keras\n",
    "\n",
    "from scipy import stats\n",
    "\n",
    "pd.set_option('display.float_format', lambda x: '%.4f' % x)"
   ]
  },
  {
   "cell_type": "code",
   "execution_count": 2,
   "metadata": {},
   "outputs": [],
   "source": [
    "dataset_name = 'MobiAct'"
   ]
  },
  {
   "cell_type": "code",
   "execution_count": 3,
   "metadata": {
    "colab": {},
    "colab_type": "code",
    "id": "xjeKgF4iKLie"
   },
   "outputs": [],
   "source": [
    "# x_train = pd.read_csv(dataset_name+\"/\"+dataset_name+\"_x_train.csv\")\n",
    "# y_train = pd.read_csv(dataset_name+\"/\"+dataset_name+\"_y_train.csv\")    \n",
    "# x_test = pd.read_csv(dataset_name+\"/\"+dataset_name+\"_x_test.csv\")\n",
    "# y_test = pd.read_csv(dataset_name+\"/\"+dataset_name+\"_y_test.csv\")\n",
    "# x_train.shape, y_train.shape, x_test.shape, y_test.shape"
   ]
  },
  {
   "cell_type": "code",
   "execution_count": 4,
   "metadata": {
    "colab": {},
    "colab_type": "code",
    "id": "Qgcfm3y-KLim"
   },
   "outputs": [],
   "source": [
    "# val_cnt = y_train['pid'].value_counts()\n",
    "# print(len(val_cnt))\n",
    "# pids = [k for k in val_cnt.keys() if val_cnt[k] > 100000]\n",
    "# print(len(pids))\n",
    "\n",
    "# x_train = x_train.loc[y_train[\"pid\"].isin(pids)]\n",
    "# y_train = y_train.loc[y_train[\"pid\"].isin(pids)]\n",
    "\n",
    "# x_test = x_test.loc[y_test[\"pid\"].isin(pids)]\n",
    "# y_test = y_test.loc[y_test[\"pid\"].isin(pids)]\n",
    "\n",
    "# y_train.drop(['act'], axis=1, inplace=True)\n",
    "# y_test.drop(['act'], axis=1, inplace=True)\n",
    "\n",
    "# x_train.shape, y_train.shape, x_test.shape, y_test.shape"
   ]
  },
  {
   "cell_type": "code",
   "execution_count": 5,
   "metadata": {
    "colab": {},
    "colab_type": "code",
    "id": "UGge7vrWKLiv"
   },
   "outputs": [],
   "source": [
    "# # Falls : ['FOL','FKL', 'BSC', 'SDL']\n",
    "# y_train['label'] = y_train['label'].map({\"STN\":\"STN\",\n",
    "#                                          \"STU\":\"STU\",\n",
    "#                                          \"WAL\":\"WAL\",\n",
    "#                                          \"JOG\":\"JOG\",\n",
    "#                                          \"STD\":\"STD\",\n",
    "#                                          \"SIT\":\"SIT\",\n",
    "#                                          \"CHU\":\"CHU\",\n",
    "#                                          \"LYI\":\"LYI\",\n",
    "#                                          \"CSI\":\"CSI\",\n",
    "#                                          \"CSO\":\"CSO\",\n",
    "#                                          \"JUM\":\"JUM\",\n",
    "#                                          \"SCH\":\"SCH\",\n",
    "#                                          \"FKL\":\"FALL\",\n",
    "#                                          \"BSC\":\"FALL\",\n",
    "#                                          \"SDL\":\"FALL\",\n",
    "#                                          \"FOL\":\"FALL\"\n",
    "#                                         })\n",
    "\n",
    "# y_test['label'] =   y_test['label'].map({\"STN\":\"STN\",\n",
    "#                                          \"STU\":\"STU\",\n",
    "#                                          \"WAL\":\"WAL\",\n",
    "#                                          \"JOG\":\"JOG\",\n",
    "#                                          \"STD\":\"STD\",\n",
    "#                                          \"SIT\":\"SIT\",\n",
    "#                                          \"CHU\":\"CHU\",\n",
    "#                                          \"LYI\":\"LYI\",\n",
    "#                                          \"CSI\":\"CSI\",\n",
    "#                                          \"CSO\":\"CSO\",\n",
    "#                                          \"JUM\":\"JUM\",\n",
    "#                                          \"SCH\":\"SCH\",\n",
    "#                                          \"FKL\":\"FALL\",\n",
    "#                                          \"BSC\":\"FALL\",\n",
    "#                                          \"SDL\":\"FALL\",\n",
    "#                                          \"FOL\":\"FALL\"\n",
    "#                                         })\n",
    "# y_train.rename(columns={\"label\": \"activity\", \"pid\": \"userid\"}, inplace=True)\n",
    "# y_test.rename(columns={\"label\": \"activity\", \"pid\": \"userid\"}, inplace=True)"
   ]
  },
  {
   "cell_type": "code",
   "execution_count": 6,
   "metadata": {
    "colab": {},
    "colab_type": "code",
    "id": "ZP8ZgfUBKLjG"
   },
   "outputs": [],
   "source": [
    "# act_dict =  {\"STN\":0,\n",
    "#              \"STU\":1,\n",
    "#              \"WAL\":2,\n",
    "#              \"JOG\":3,\n",
    "#              \"JUM\":4,\n",
    "#              \"CHU\":5,\n",
    "#              \"SCH\":6,\n",
    "#              \"STD\":7,\n",
    "#              \"SIT\":8,\n",
    "#              \"LYI\":9,\n",
    "#              \"CSI\":10,\n",
    "#              \"CSO\":11,\n",
    "#              \"FALL\":12}\n",
    "# y_train['activity'] = y_train['activity'].map(act_dict)\n",
    "# y_test['activity']  = y_test['activity'].map(act_dict)"
   ]
  },
  {
   "cell_type": "code",
   "execution_count": 7,
   "metadata": {
    "colab": {},
    "colab_type": "code",
    "id": "5wwHCbvkKLjq"
   },
   "outputs": [],
   "source": [
    "# train_dataset = x_train\n",
    "# train_dataset['activity'] = y_train['activity']\n",
    "# train_dataset['userid'] = y_train['userid']\n",
    "# train_dataset['gender'] = y_train['gender']\n",
    "# train_dataset['age'] = y_train['age']\n",
    "# train_dataset['height'] = y_train['height']\n",
    "# train_dataset['weight'] = y_train['weight']\n",
    "# train_dataset['trial'] = y_train['trial']\n",
    "\n",
    "\n",
    "# test_dataset = x_test\n",
    "# test_dataset['activity'] = y_test['activity']\n",
    "# test_dataset['userid'] = y_test['userid']\n",
    "# test_dataset['gender'] = y_test['gender']\n",
    "# test_dataset['age'] = y_test['age']\n",
    "# test_dataset['height'] = y_test['height']\n",
    "# test_dataset['weight'] = y_test['weight']\n",
    "# test_dataset['trial'] = y_test['trial']\n",
    "\n",
    "# train_dataset.shape, test_dataset.shape"
   ]
  },
  {
   "cell_type": "code",
   "execution_count": 8,
   "metadata": {},
   "outputs": [],
   "source": [
    "# tmp = train_dataset[train_dataset['activity']==12][['userid','gender']]\n",
    "# tmp = tmp[tmp['gender']==\"M\"]['userid'].unique()\n",
    "# tmp.shape"
   ]
  },
  {
   "cell_type": "code",
   "execution_count": 9,
   "metadata": {
    "colab": {},
    "colab_type": "code",
    "id": "N4JBbJCFKLj-"
   },
   "outputs": [],
   "source": [
    "# def ts_resampling(data, org_sr, new_sr, howto = None):\n",
    "#     if not howto:\n",
    "#         raise ValueError(\"You specify 'howto' parameter using a dictionary for all columns such as howto = {'x':'sum','y':'mean','z':'last'} \")    \n",
    "#     data.index = pd.date_range(start=0, periods = len(data), freq=str(int(1000/org_sr))+'ms', closed='left')\n",
    "#     data = data.interpolate('time').resample(str(int(1000/new_sr))+'ms').agg(howto)\n",
    "#     return data\n",
    "\n",
    "# original_freqs = 200\n",
    "# new_freq = 50\n",
    "# how_to_resample = {'acc_x':'mean',\n",
    "#                    'acc_y':'mean',\n",
    "#                    'acc_z':'mean',\n",
    "#                    'gyro_x':'mean',\n",
    "#                    'gyro_y':'mean',\n",
    "#                    'gyro_z':'mean',\n",
    "#                    'azimuth':'mean',\n",
    "#                    'pitch':'mean',\n",
    "#                    'roll':'mean',\n",
    "#                    'activity':'last',\n",
    "#                    'userid':'last',\n",
    "#                    'trial':'last',\n",
    "#                    'gender':'last',\n",
    "#                    'age':'last',\n",
    "#                    'height':'last',\n",
    "#                    'weight':'last'}\n",
    "\n",
    "# rs_train_dataset = pd.DataFrame(columns=train_dataset.columns)\n",
    "# for uid in train_dataset['userid'].unique():\n",
    "#     tmp_uid = train_dataset[train_dataset['userid']==uid]\n",
    "#     for act in tmp_uid['activity'].unique():\n",
    "#         tmp_act = tmp_uid[tmp_uid['activity']==act]\n",
    "#         for tr in tmp_act['trial'].unique():\n",
    "#             print(\"___\",uid,\"___\",\"___\",act,\"___\",\"___\",tr,\"___\", end=\"\\r\")\n",
    "#             tmp_tr = tmp_act[tmp_act['trial']==tr]\n",
    "#             tmp_tr = ts_resampling(data=tmp_tr, org_sr=original_freqs, new_sr=new_freq, howto=how_to_resample)\n",
    "#             rs_train_dataset = rs_train_dataset.append(tmp_tr, ignore_index=True, sort=False)\n",
    "\n",
    "# rs_test_dataset = pd.DataFrame(columns=test_dataset.columns)\n",
    "# for uid in test_dataset['userid'].unique():\n",
    "#     tmp_uid = test_dataset[test_dataset['userid']==uid]\n",
    "#     for act in tmp_uid['activity'].unique():\n",
    "#         tmp_act = tmp_uid[tmp_uid['activity']==act]\n",
    "#         for tr in tmp_act['trial'].unique():\n",
    "#             print(\"___\",uid,\"___\",\"___\",act,\"___\",\"___\",tr,\"___\", end=\"\\r\")\n",
    "#             tmp_tr = tmp_act[tmp_act['trial']==tr]\n",
    "#             tmp_tr = ts_resampling(data=tmp_tr, org_sr=original_freqs, new_sr=new_freq, howto=how_to_resample)\n",
    "#             rs_test_dataset = rs_test_dataset.append(tmp_tr, ignore_index=True, sort=False)\n",
    "            \n",
    "\n",
    "# print(train_dataset.shape, \"-->\",rs_train_dataset.shape, \"\\n\", test_dataset.shape,\"-->\",rs_test_dataset.shape)"
   ]
  },
  {
   "cell_type": "code",
   "execution_count": 10,
   "metadata": {
    "colab": {},
    "colab_type": "code",
    "id": "UPkj2a4pKLkF"
   },
   "outputs": [],
   "source": [
    "# rs_train_dataset.to_csv(\"MobiAct_rs_50hz_train_dataset.csv\", index=False)\n",
    "# rs_test_dataset.to_csv(\"MobiAct_rs_50hz_test_dataset.csv\", index=False)"
   ]
  },
  {
   "cell_type": "code",
   "execution_count": 11,
   "metadata": {
    "colab": {
     "base_uri": "https://localhost:8080/",
     "height": 35
    },
    "colab_type": "code",
    "executionInfo": {
     "elapsed": 8805,
     "status": "ok",
     "timestamp": 1572255791282,
     "user": {
      "displayName": "a cup of data",
      "photoUrl": "https://lh3.googleusercontent.com/a-/AAuE7mAGeOe0heF2mjC_X0LvBoaxaDfPSdZs6yCe_9tm=s64",
      "userId": "12973428829118435411"
     },
     "user_tz": 0
    },
    "id": "0AsXlvFsKLkP",
    "outputId": "d9cdbf91-1569-4317-ad39-ac83c9cb929e"
   },
   "outputs": [
    {
     "data": {
      "text/plain": [
       "((3012757, 16), (1141983, 16))"
      ]
     },
     "execution_count": 11,
     "metadata": {},
     "output_type": "execute_result"
    }
   ],
   "source": [
    "train_dataset = pd.read_csv(\"MobiAct_rs_50hz_train_dataset.csv\")\n",
    "test_dataset = pd.read_csv(\"MobiAct_rs_50hz_test_dataset.csv\")\n",
    "train_dataset.shape, test_dataset.shape"
   ]
  },
  {
   "cell_type": "code",
   "execution_count": 12,
   "metadata": {},
   "outputs": [
    {
     "data": {
      "text/plain": [
       "((2915227, 16), (1093658, 16))"
      ]
     },
     "execution_count": 12,
     "metadata": {},
     "output_type": "execute_result"
    }
   ],
   "source": [
    "ids_with_fall = sorted(train_dataset[train_dataset['activity']==12]['userid'].unique())\n",
    "train_dataset = train_dataset[train_dataset['userid'].isin(ids_with_fall)]\n",
    "test_dataset = test_dataset[test_dataset['userid'].isin(ids_with_fall)]\n",
    "\n",
    "train_dataset.shape, test_dataset.shape"
   ]
  },
  {
   "cell_type": "code",
   "execution_count": 13,
   "metadata": {
    "colab": {
     "base_uri": "https://localhost:8080/",
     "height": 35
    },
    "colab_type": "code",
    "executionInfo": {
     "elapsed": 8643,
     "status": "ok",
     "timestamp": 1572255791467,
     "user": {
      "displayName": "a cup of data",
      "photoUrl": "https://lh3.googleusercontent.com/a-/AAuE7mAGeOe0heF2mjC_X0LvBoaxaDfPSdZs6yCe_9tm=s64",
      "userId": "12973428829118435411"
     },
     "user_tz": 0
    },
    "id": "NMU1FrrvKLkm",
    "outputId": "60d667bd-e242-4ce8-b17e-174842b5bb5d"
   },
   "outputs": [
    {
     "data": {
      "text/plain": [
       "((2617475, 16), (964685, 16))"
      ]
     },
     "execution_count": 13,
     "metadata": {},
     "output_type": "execute_result"
    }
   ],
   "source": [
    "train_dataset = train_dataset[~train_dataset['activity'].isin([5,6,9,10,11])]\n",
    "test_dataset = test_dataset[~test_dataset['activity'].isin([5,6,9,10,11])]\n",
    "train_dataset['activity'] = train_dataset['activity'].map({0:0, 1:0, 2:1, 3:2, 4:3, 7:4, 8:4, 12:5})\n",
    "test_dataset['activity'] = test_dataset['activity'].map({0:0, 1:0, 2:1, 3:2, 4:3, 7:4, 8:4, 12:5})\n",
    "train_dataset.shape, test_dataset.shape"
   ]
  },
  {
   "cell_type": "code",
   "execution_count": 14,
   "metadata": {
    "colab": {
     "base_uri": "https://localhost:8080/",
     "height": 35
    },
    "colab_type": "code",
    "executionInfo": {
     "elapsed": 8262,
     "status": "ok",
     "timestamp": 1572255791641,
     "user": {
      "displayName": "a cup of data",
      "photoUrl": "https://lh3.googleusercontent.com/a-/AAuE7mAGeOe0heF2mjC_X0LvBoaxaDfPSdZs6yCe_9tm=s64",
      "userId": "12973428829118435411"
     },
     "user_tz": 0
    },
    "id": "_NH0pLL1KLkx",
    "outputId": "bae44c8a-8a1a-43a1-bc3a-c80989fdca5d"
   },
   "outputs": [
    {
     "name": "stdout",
     "output_type": "stream",
     "text": [
      "0 : STR | 1 : WAL | 2 : JOG | 3 : JUM | 4 : STD | 5 : FALL | "
     ]
    }
   ],
   "source": [
    "act_list = [\"STR\",\"WAL\",\"JOG\",\"JUM\",\"STD\",\"FALL\"]\n",
    "for i, a in enumerate(act_list):\n",
    "    print(i,\":\",a, end=\" | \")\n"
   ]
  },
  {
   "cell_type": "code",
   "execution_count": 15,
   "metadata": {
    "colab": {
     "base_uri": "https://localhost:8080/",
     "height": 190
    },
    "colab_type": "code",
    "executionInfo": {
     "elapsed": 7838,
     "status": "ok",
     "timestamp": 1572255791642,
     "user": {
      "displayName": "a cup of data",
      "photoUrl": "https://lh3.googleusercontent.com/a-/AAuE7mAGeOe0heF2mjC_X0LvBoaxaDfPSdZs6yCe_9tm=s64",
      "userId": "12973428829118435411"
     },
     "user_tz": 0
    },
    "id": "qRfznGGRKLk3",
    "outputId": "b2e908d0-07b3-4d28-ccf9-ebee31f9e108"
   },
   "outputs": [
    {
     "data": {
      "text/plain": [
       "(['acc_x',\n",
       "  'acc_y',\n",
       "  'acc_z',\n",
       "  'gyro_x',\n",
       "  'gyro_y',\n",
       "  'gyro_z',\n",
       "  'azimuth',\n",
       "  'pitch',\n",
       "  'roll'],\n",
       " ['activity', 'userid', 'gender', 'age', 'height', 'weight', 'trial'])"
      ]
     },
     "execution_count": 15,
     "metadata": {},
     "output_type": "execute_result"
    }
   ],
   "source": [
    "features = list(train_dataset.columns[:9])\n",
    "info = list(train_dataset.columns[9:])\n",
    "features, info"
   ]
  },
  {
   "cell_type": "code",
   "execution_count": 16,
   "metadata": {},
   "outputs": [
    {
     "data": {
      "text/plain": [
       "4    1072600\n",
       "1     896276\n",
       "0     218819\n",
       "2     192394\n",
       "3     181743\n",
       "5      55643\n",
       "Name: activity, dtype: int64"
      ]
     },
     "execution_count": 16,
     "metadata": {},
     "output_type": "execute_result"
    }
   ],
   "source": [
    "train_dataset['activity'].value_counts()"
   ]
  },
  {
   "cell_type": "code",
   "execution_count": 17,
   "metadata": {
    "colab": {
     "base_uri": "https://localhost:8080/",
     "height": 121
    },
    "colab_type": "code",
    "executionInfo": {
     "elapsed": 9068,
     "status": "ok",
     "timestamp": 1572255793391,
     "user": {
      "displayName": "a cup of data",
      "photoUrl": "https://lh3.googleusercontent.com/a-/AAuE7mAGeOe0heF2mjC_X0LvBoaxaDfPSdZs6yCe_9tm=s64",
      "userId": "12973428829118435411"
     },
     "user_tz": 0
    },
    "id": "7xOW-Ri5KLlN",
    "outputId": "96341549-11c0-4a57-96c2-5d33e651ec88"
   },
   "outputs": [
    {
     "name": "stdout",
     "output_type": "stream",
     "text": [
      "      acc_x  acc_y   acc_z  gyro_x  gyro_y  gyro_z  azimuth  pitch   roll\n",
      "mean 0.0000 0.0000 -0.0000  0.0000  0.0000  0.0000   0.0000 0.0000 0.0000\n",
      "std  1.0000 1.0000  1.0000  1.0000  1.0000  1.0000   1.0000 1.0000 1.0000\n",
      "      acc_x  acc_y   acc_z  gyro_x  gyro_y  gyro_z  azimuth   pitch   roll\n",
      "mean 0.0129 0.1227 -0.0465  0.0021  0.0047 -0.0066  -0.0152 -0.1280 0.0125\n",
      "std  0.9295 0.9185  0.9465  0.9993  0.9883  0.9897   1.0103  0.8925 0.8974\n"
     ]
    }
   ],
   "source": [
    "tmp_train = train_dataset[features]\n",
    "tmp_means = tmp_train.mean().values\n",
    "tmp_stds = tmp_train.std().values\n",
    "train_dataset[features] = (tmp_train - tmp_means)/(tmp_stds)\n",
    "tmp_test = test_dataset[features]\n",
    "test_dataset[features] = (tmp_test - tmp_means)/(tmp_stds)\n",
    "print(train_dataset[features].describe().loc[['mean','std']])  \n",
    "print(test_dataset[features].describe().loc[['mean','std']])  "
   ]
  },
  {
   "cell_type": "code",
   "execution_count": 18,
   "metadata": {
    "colab": {},
    "colab_type": "code",
    "id": "LoQOnk7IKLlW"
   },
   "outputs": [],
   "source": [
    "## stats.mode(self.targets[row - self.length:row:self.sampling_rate]).mode[0]\n",
    "from tensorflow.keras.preprocessing.sequence import TimeseriesGenerator\n",
    "class SensorWindowGenerator(TimeseriesGenerator):\n",
    "    def __init__(self, data, targets, info, length,\n",
    "                 sampling_rate=1,\n",
    "                 stride=1,\n",
    "                 start_index=0,\n",
    "                 end_index=None,\n",
    "                 shuffle=False,\n",
    "                 reverse=False,\n",
    "                 batch_size=128):\n",
    "        super().__init__(data, targets, length, sampling_rate, stride, start_index, end_index, shuffle,reverse,batch_size)\n",
    "        self.info = info\n",
    "    \n",
    "    def __getitem__(self, index):\n",
    "        if self.shuffle:\n",
    "            rows = np.random.randint(\n",
    "                self.start_index, self.end_index + 1, size=self.batch_size)\n",
    "        else:\n",
    "            i = self.start_index + self.batch_size * self.stride * index\n",
    "            rows = np.arange(i, min(i + self.batch_size *\n",
    "                                    self.stride, self.end_index + 1), self.stride)\n",
    "\n",
    "        samples = np.array([self.data[row - self.length:row:self.sampling_rate]\n",
    "                            for row in rows \n",
    "                            if np.all(self.info[row - self.length] == self.info[row]) ])\n",
    "        targets = np.array([self.targets[row] for row in rows if np.all(self.info[row - self.length] == self.info[row])])\n",
    "        \n",
    "        infos = np.array([self.targets[row] for row in rows if np.all(self.info[row - self.length] == self.info[row])])\n",
    "        \n",
    "        if self.reverse:\n",
    "            return samples[:, ::-1, ...], targets\n",
    "        return samples, targets"
   ]
  },
  {
   "cell_type": "code",
   "execution_count": 19,
   "metadata": {
    "colab": {},
    "colab_type": "code",
    "id": "wvU56MbtKLl-"
   },
   "outputs": [],
   "source": [
    "def get_xyi_single(train_data, test_data, features, label, info):\n",
    "    x_train = train_data[features]\n",
    "    x_test  = test_data[features]\n",
    "    y_train = train_data[label]\n",
    "    y_test  = test_data[label]\n",
    "    i_train = train_data[info]\n",
    "    i_test  = test_data[info]\n",
    "    return x_train.values, y_train.values, x_test.values, y_test.values, i_train.values, i_test.values\n",
    "\n",
    "def get_generators(train_data, test_data, features, label, info, length, train_stride, test_stride, batch_size, sampling_rate):\n",
    "    x_train, y_train, x_test, y_test, i_train, i_test = get_xyi_single(train_data,test_data, features,label,info)\n",
    "    train_gen = SensorWindowGenerator(data = x_train,\n",
    "                                      targets = y_train,\n",
    "                                      info = i_train,\n",
    "                                      stride = train_stride, \n",
    "                                      length = length, \n",
    "                                      batch_size = batch_size,\n",
    "                                      sampling_rate=sampling_rate)\n",
    "    test_gen = SensorWindowGenerator(data = x_test,\n",
    "                                     targets = y_test,\n",
    "                                     info = i_train,\n",
    "                                     stride = test_stride, \n",
    "                                     length = length, \n",
    "                                     batch_size=batch_size,\n",
    "                                     sampling_rate=sampling_rate)\n",
    "    return train_gen, test_gen     "
   ]
  },
  {
   "cell_type": "code",
   "execution_count": 20,
   "metadata": {
    "colab": {},
    "colab_type": "code",
    "id": "aDR2y49xBlPt"
   },
   "outputs": [],
   "source": [
    "length = 128 ## Sliding Window length (Size)\n",
    "train_stride = 32 ## Step Size of the Sliding Window for training\n",
    "test_stride = 64 ## Step Size of the Sliding Window for testing\n",
    "sampling_rate = 1 ## Larger integers means lower frequency\n",
    "batch_size = 1000000000\n",
    "train_gen_wof2, test_gen_wof2 = get_generators(train_dataset[train_dataset['activity'].isin([1,4])], test_dataset[test_dataset['activity'].isin([1,4])],\n",
    "                                     features, ['activity','gender'], ['userid','activity','trial'],\n",
    "                                     length, train_stride, test_stride, batch_size, sampling_rate)"
   ]
  },
  {
   "cell_type": "code",
   "execution_count": 21,
   "metadata": {
    "colab": {},
    "colab_type": "code",
    "id": "SAMkaNVQG7sd"
   },
   "outputs": [],
   "source": [
    "length = 128 ## Sliding Window length (Size)\n",
    "train_stride = 8 ## Step Size of the Sliding Window for training\n",
    "test_stride = 16 ## Step Size of the Sliding Window for testing\n",
    "sampling_rate = 1 ## Larger integers means lower frequency\n",
    "batch_size = 1000000000\n",
    "train_gen_wof1, test_gen_wof1 = get_generators(train_dataset[train_dataset['activity'].isin([2,3])], test_dataset[test_dataset['activity'].isin([2,3])],\n",
    "                                     features, ['activity','gender'], ['userid','activity','trial'],\n",
    "                                     length, train_stride, test_stride, batch_size, sampling_rate)"
   ]
  },
  {
   "cell_type": "code",
   "execution_count": 22,
   "metadata": {
    "colab": {},
    "colab_type": "code",
    "id": "n6p9tiD4v5IR"
   },
   "outputs": [],
   "source": [
    "length = 128 ## Sliding Window length (Size)\n",
    "train_stride = 4 ## Step Size of the Sliding Window for training\n",
    "test_stride = 8 ## Step Size of the Sliding Window for testing\n",
    "sampling_rate = 1 ## Larger integers means lower frequency\n",
    "batch_size = 1000000000\n",
    "train_gen_wof3, test_gen_wof3 = get_generators(train_dataset[train_dataset['activity'].isin([0])], test_dataset[test_dataset['activity'].isin([0])],\n",
    "                                     features, ['activity','gender'], ['userid','activity','trial'],\n",
    "                                     length, train_stride, test_stride, batch_size, sampling_rate)"
   ]
  },
  {
   "cell_type": "code",
   "execution_count": 23,
   "metadata": {
    "colab": {},
    "colab_type": "code",
    "id": "foYJuVerHxbF"
   },
   "outputs": [],
   "source": [
    "length = 128 ## Sliding Window length (Size)\n",
    "train_stride = 1 ## Step Size of the Sliding Window for training\n",
    "test_stride = 2 ## Step Size of the Sliding Window for testing\n",
    "sampling_rate = 1 ## Larger integers means lower frequency\n",
    "batch_size = 1000000000\n",
    "train_gen_f, test_gen_f = get_generators(train_dataset[train_dataset['activity']==5], test_dataset[test_dataset['activity']==5],\n",
    "                                     features, ['activity','gender'], ['userid','activity','trial'],\n",
    "                                     length, train_stride, test_stride, batch_size, sampling_rate)"
   ]
  },
  {
   "cell_type": "code",
   "execution_count": 24,
   "metadata": {
    "colab": {
     "base_uri": "https://localhost:8080/",
     "height": 35
    },
    "colab_type": "code",
    "executionInfo": {
     "elapsed": 7513,
     "status": "ok",
     "timestamp": 1572255803489,
     "user": {
      "displayName": "a cup of data",
      "photoUrl": "https://lh3.googleusercontent.com/a-/AAuE7mAGeOe0heF2mjC_X0LvBoaxaDfPSdZs6yCe_9tm=s64",
      "userId": "12973428829118435411"
     },
     "user_tz": 0
    },
    "id": "ltVGVXiRKLmM",
    "outputId": "c12d6e99-6316-44f0-cbb8-6b567c0b5184"
   },
   "outputs": [
    {
     "data": {
      "text/plain": [
       "((43056, 128, 9), (59442, 128, 9), (40795, 128, 9))"
      ]
     },
     "execution_count": 24,
     "metadata": {},
     "output_type": "execute_result"
    }
   ],
   "source": [
    "x_train_wof1, y_train_wof1 = train_gen_wof1[0]\n",
    "x_test_wof1, y_test_wof1 = test_gen_wof1[0]\n",
    "\n",
    "x_train_wof2, y_train_wof2 = train_gen_wof2[0]\n",
    "x_test_wof2, y_test_wof2 = test_gen_wof2[0]\n",
    "\n",
    "x_train_wof3, y_train_wof3 = train_gen_wof3[0]\n",
    "x_test_wof3, y_test_wof3 = test_gen_wof3[0]\n",
    "\n",
    "x_train_f, y_train_f = train_gen_f[0]\n",
    "x_test_f, y_test_f = test_gen_f[0]\n",
    "\n",
    "x_train_wof1.shape, x_train_wof2.shape, x_train_f.shape"
   ]
  },
  {
   "cell_type": "code",
   "execution_count": 25,
   "metadata": {
    "colab": {
     "base_uri": "https://localhost:8080/",
     "height": 35
    },
    "colab_type": "code",
    "executionInfo": {
     "elapsed": 8161,
     "status": "ok",
     "timestamp": 1572255805287,
     "user": {
      "displayName": "a cup of data",
      "photoUrl": "https://lh3.googleusercontent.com/a-/AAuE7mAGeOe0heF2mjC_X0LvBoaxaDfPSdZs6yCe_9tm=s64",
      "userId": "12973428829118435411"
     },
     "user_tz": 0
    },
    "id": "PVap9GVdyID6",
    "outputId": "e4b6559f-6e38-4fc2-f544-b7c1fb1b3b17"
   },
   "outputs": [
    {
     "data": {
      "text/plain": [
       "((184302, 128, 9), (184302, 2), (39162, 128, 9), (39162, 2))"
      ]
     },
     "execution_count": 25,
     "metadata": {},
     "output_type": "execute_result"
    }
   ],
   "source": [
    "x_train = np.append(x_train_wof1, x_train_wof2, axis=0)\n",
    "y_train = np.append(y_train_wof1, y_train_wof2, axis=0)\n",
    "x_train = np.append(x_train, x_train_wof3, axis=0)\n",
    "y_train = np.append(y_train, y_train_wof3, axis=0)\n",
    "x_train = np.append(x_train, x_train_f, axis=0)\n",
    "y_train = np.append(y_train, y_train_f, axis=0)\n",
    "\n",
    "\n",
    "x_test = np.append(x_test_wof1, x_test_wof2, axis=0)\n",
    "y_test = np.append(y_test_wof1, y_test_wof2, axis=0)\n",
    "x_test = np.append(x_test, x_test_wof3, axis=0)\n",
    "y_test = np.append(y_test, y_test_wof3, axis=0)\n",
    "x_test = np.append(x_test, x_test_f, axis=0)\n",
    "y_test = np.append(y_test, y_test_f, axis=0)\n",
    "\n",
    "\n",
    "\n",
    "x_train.shape, y_train.shape, x_test.shape, y_test.shape"
   ]
  },
  {
   "cell_type": "code",
   "execution_count": 26,
   "metadata": {},
   "outputs": [],
   "source": [
    "x_train = x_train[y_train[:,1] != 'A']\n",
    "y_train = y_train[y_train[:,1] != 'A']\n",
    "\n",
    "x_test = x_test[y_test[:,1] != 'A']\n",
    "y_test = y_test[y_test[:,1] != 'A']"
   ]
  },
  {
   "cell_type": "code",
   "execution_count": 27,
   "metadata": {},
   "outputs": [
    {
     "data": {
      "text/plain": [
       "((176760, 128, 9), (176760, 2), (37117, 128, 9), (37117, 2))"
      ]
     },
     "execution_count": 27,
     "metadata": {},
     "output_type": "execute_result"
    }
   ],
   "source": [
    "x_train.shape, y_train.shape, x_test.shape, y_test.shape"
   ]
  },
  {
   "cell_type": "code",
   "execution_count": 28,
   "metadata": {},
   "outputs": [],
   "source": [
    "y_train[:,1] = np.vectorize({'F':0, 'M': 1}.get)(y_train[:,1])\n",
    "y_test[:,1] = np.vectorize({'F':0, 'M': 1}.get)(y_test[:,1])"
   ]
  },
  {
   "cell_type": "code",
   "execution_count": 29,
   "metadata": {},
   "outputs": [],
   "source": [
    "np.save(\"x_train.npy\", x_train)\n",
    "np.save(\"x_test.npy\", x_test)\n",
    "np.save(\"y_train.npy\", y_train)\n",
    "np.save(\"y_test.npy\", y_test)"
   ]
  }
 ],
 "metadata": {
  "accelerator": "GPU",
  "colab": {
   "collapsed_sections": [],
   "name": "Exp_MobiAct_PMC.ipynb",
   "provenance": []
  },
  "kernelspec": {
   "display_name": "Python 3",
   "language": "python",
   "name": "python3"
  },
  "language_info": {
   "codemirror_mode": {
    "name": "ipython",
    "version": 3
   },
   "file_extension": ".py",
   "mimetype": "text/x-python",
   "name": "python",
   "nbconvert_exporter": "python",
   "pygments_lexer": "ipython3",
   "version": "3.7.3"
  }
 },
 "nbformat": 4,
 "nbformat_minor": 4
}
